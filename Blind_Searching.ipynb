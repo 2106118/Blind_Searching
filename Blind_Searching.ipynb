{
  "nbformat": 4,
  "nbformat_minor": 0,
  "metadata": {
    "colab": {
      "provenance": [],
      "authorship_tag": "ABX9TyMu63BpqA28ZnMvYeLTxtol",
      "include_colab_link": true
    },
    "kernelspec": {
      "name": "python3",
      "display_name": "Python 3"
    },
    "language_info": {
      "name": "python"
    }
  },
  "cells": [
    {
      "cell_type": "markdown",
      "metadata": {
        "id": "view-in-github",
        "colab_type": "text"
      },
      "source": [
        "<a href=\"https://colab.research.google.com/github/2106118/Blind_Searching/blob/main/Blind_Searching.ipynb\" target=\"_parent\"><img src=\"https://colab.research.google.com/assets/colab-badge.svg\" alt=\"Open In Colab\"/></a>"
      ]
    },
    {
      "cell_type": "markdown",
      "source": [
        "Nama: M Nabil Naufal Nasrullah\n",
        "\n",
        "> NIM: 2106118\n"
      ],
      "metadata": {
        "id": "cw51oFbC0rwz"
      }
    },
    {
      "cell_type": "markdown",
      "source": [
        "# **1. Breadth First Search (BFS)**"
      ],
      "metadata": {
        "id": "1SgayQYo0eKn"
      }
    },
    {
      "cell_type": "code",
      "source": [
        "def bfs(graph, source):\n",
        "    visited = set() # to keep track of already visited nodes \n",
        "    bfs_traversal = [] # the BFS traversal result \n",
        "    queue = [] # queue\n",
        "    \n",
        "    # push the root node to the queue and mark it as visited \n",
        "    queue.append(source)\n",
        "    visited.add(source)\n",
        "\n",
        "    # loop until the queue is empty \n",
        "    while queue:\n",
        "        # pop the front node of the queue and add it to bfs traversal \n",
        "        current_node = queue.pop(0) \n",
        "        bfs_traversal.append(current_node)\n",
        "\n",
        "        # check all the neighbor nodes of the current node \n",
        "        for neighbor_node in graph[current_node]:\n",
        "            # if the neighbor nodes are not already visited, push them to the queue and mark them as visited \n",
        "            if neighbor_node not in visited:\n",
        "                visited.add(neighbor_node) \n",
        "                queue.append(neighbor_node)\n",
        "\n",
        "    return bfs_traversal\n",
        "\n",
        "def main():\n",
        "    graph = {\n",
        "        'A': ['B', 'C'],\n",
        "        'B': ['A', 'D', 'E'],\n",
        "        'C': ['A', 'F', 'G'],\n",
        "        'D': ['B'],\n",
        "        'E': ['B'],\n",
        "        'F': ['C'],\n",
        "        'G': ['C']\n",
        "    }\n",
        "\n",
        "    bfs_traversal = bfs(graph, 'A')\n",
        "    print(f\"BFS: {bfs_traversal}\")\n",
        "\n",
        "if __name__ == '__main__':\n",
        "    main()\n"
      ],
      "metadata": {
        "colab": {
          "base_uri": "https://localhost:8080/"
        },
        "id": "zuOY7YfHzbl_",
        "outputId": "3acf29b0-1ebf-4f30-800b-a668fce55fc6"
      },
      "execution_count": 4,
      "outputs": [
        {
          "output_type": "stream",
          "name": "stdout",
          "text": [
            "BFS: ['A', 'B', 'C', 'D', 'E', 'F', 'G']\n"
          ]
        }
      ]
    },
    {
      "cell_type": "markdown",
      "source": [
        "**2. Depth First Search (DFS)**"
      ],
      "metadata": {
        "id": "IndJFrmk7F0T"
      }
    },
    {
      "cell_type": "code",
      "source": [
        "def dfs(graph, source, visited, dfs_traversal):\n",
        "    # If the source node is not already visited, mark it as visited and add it to the dfs traversal result\n",
        "    if source not in visited:\n",
        "        dfs_traversal.append(source)\n",
        "        visited.add(source)\n",
        "\n",
        "        # Recursively visit all the unvisited neighbor nodes of the current node\n",
        "        for neighbor_node in graph[source]:\n",
        "            dfs(graph, neighbor_node, visited, dfs_traversal)\n",
        "\n",
        "    return dfs_traversal\n",
        "\n",
        "\n",
        "def main():\n",
        "    visited = set() # to keep track of already visited nodes\n",
        "    dfs_traversal = [] # the DFS traversal result\n",
        "\n",
        "    graph = {\n",
        "        'A': ['B', 'C'],\n",
        "        'B': ['D', 'E'],\n",
        "        'C': ['F', 'G'],\n",
        "        'D': [],\n",
        "        'E': [],\n",
        "        'F': [],\n",
        "        'G': [],\n",
        "    }\n",
        "\n",
        "    # Call the DFS function with the source node 'A'\n",
        "    print(f\"DFS: {dfs(graph, 'A', visited, dfs_traversal)}\")\n",
        "\n",
        "\n",
        "if __name__ == \"__main__\":\n",
        "    main()\n"
      ],
      "metadata": {
        "colab": {
          "base_uri": "https://localhost:8080/"
        },
        "id": "S9-kfdRu7Sw8",
        "outputId": "f238448f-74c2-45bd-9851-1a685657ea98"
      },
      "execution_count": 3,
      "outputs": [
        {
          "output_type": "stream",
          "name": "stdout",
          "text": [
            "DFS: ['A', 'B', 'D', 'E', 'C', 'F', 'G']\n"
          ]
        }
      ]
    },
    {
      "cell_type": "markdown",
      "source": [
        "# **3. Uniform Cost Search**"
      ],
      "metadata": {
        "id": "4n1sA7TW-Kbb"
      }
    },
    {
      "cell_type": "code",
      "source": [
        "# returns the minimum cost in a vector (if there are multiple goal states)\n",
        "def uniform_cost_search(goal, start):\n",
        "    # minimum cost upto goal state from starting\n",
        "    global graph, cost\n",
        "    answer = []\n",
        "    # create a priority queue\n",
        "    queue = []\n",
        "    # set the answer vector to max value \n",
        "    for i in range(len(goal)):\n",
        "        answer.append(float('inf'))\n",
        "    # insert the starting index \n",
        "    queue.append([0, start])\n",
        "    # map to store visited node \n",
        "    visited = {}\n",
        "    # count\n",
        "    count = 0\n",
        "\n",
        "    # while the queue is not empty \n",
        "    while (len(queue) > 0):\n",
        "        # get the top element of the queue\n",
        "        p = min(queue, key=lambda x: x[0])\n",
        "        # pop the element\n",
        "        queue.remove(p)\n",
        "\n",
        "        # get the original value\n",
        "        p[0] *= -1\n",
        "\n",
        "        # check if the element is part of the goal list\n",
        "        if (p[1] in goal):\n",
        "            # get the position index\n",
        "            index = goal.index(p[1])\n",
        "            # if a new goal is reached\n",
        "            if (answer[index] == float('inf')):\n",
        "                count += 1\n",
        "            # if the cost is less\n",
        "            if (answer[index] > p[0]):\n",
        "                answer[index] = p[0]\n",
        "            # check if all goals have been reached\n",
        "            if (count == len(goal)):\n",
        "                return answer\n",
        "\n",
        "        # check for the non visited nodes which are adjacent to present node\n",
        "        if (p[1] not in visited):\n",
        "            # mark as visited\n",
        "            visited[p[1]] = 1\n",
        "            for i in range(len(graph[p[1]])):\n",
        "                # value is multiplied by -1 so that least priority is at the top\n",
        "                queue.append([(p[0] + cost[(p[1], graph[p[1]][i])]), graph[p[1]][i]])\n",
        "\n",
        "    return answer\n",
        "\n",
        "# main function\n",
        "def main():\n",
        "    # create the graph\n",
        "    global graph, cost\n",
        "    graph, cost = [[] for i in range(7)], {}\n",
        "\n",
        "    # add edge\n",
        "    graph[0].append(1)\n",
        "    graph[0].append(3)\n",
        "    graph[3].append(1)\n",
        "    graph[3].append(6)\n",
        "    graph[3].append(4)\n",
        "    graph[1].append(6)\n",
        "    graph[4].append(2)\n",
        "    graph[4].append(5)\n",
        "    graph[2].append(1)\n",
        "    graph[5].append(2)\n",
        "    graph[6].append(4)\n",
        "\n",
        "    # add the cost\n",
        "    cost[(0, 1)] = 2\n",
        "    cost[(0, 3)] = 5\n",
        "    cost[(1, 6)] = 1\n",
        "    cost[(3, 1)] = 5\n",
        "    cost[(3, 6)] = 6\n",
        "    cost[(3, 4)] = 2\n",
        "    cost[(2, 1)] = 4\n",
        "    cost[(4, 2)] = 4\n",
        "    cost[(4, 5)] = 3\n",
        "    cost[(5, 2)] = 6\n",
        "    cost[(5, 6)] = 1\n",
        "    cost[(6, 4)] = 7\n",
        "\n",
        "    # goal state\n",
        "    goal = []\n",
        "    \n",
        "    # set the goal\n",
        "    # there can be multiple goal states\n",
        "    goal.append(6)\n",
        "\n",
        "    # get the answer\n",
        "    answer = uniform_cost_search(goal, 0)\n",
        "    \n",
        "    # print the answer\n",
        "    print(f\"Minimum cost from 0 to 6 is {answer[0]}\")\n",
        "\n",
        "if __name__ == \"__main__\":\n",
        "    main()\n"
      ],
      "metadata": {
        "colab": {
          "base_uri": "https://localhost:8080/"
        },
        "id": "uhSTNdCy-Tdy",
        "outputId": "ce78439b-ba6a-46b5-835d-914cdf42a746"
      },
      "execution_count": 7,
      "outputs": [
        {
          "output_type": "stream",
          "name": "stdout",
          "text": [
            "Minimum cost from 0 to 6 is 1\n"
          ]
        }
      ]
    },
    {
      "cell_type": "markdown",
      "source": [
        "# **4. Iterative Deepening Depth First Search**"
      ],
      "metadata": {
        "id": "oA7DwTJTE2xA"
      }
    },
    {
      "cell_type": "code",
      "source": [
        "# Python program to print DFS traversal from a given graph\n",
        "from collections import defaultdict\n",
        "\n",
        "class Graph:\n",
        "    def __init__(self, vertices):\n",
        "        self.V = vertices # No. of vertices \n",
        "        self.graph = defaultdict(list) # default dictionary to store graph \n",
        "        \n",
        "    def addEdge(self, u, v):\n",
        "        self.graph[u].append(v) # function to add an edge to graph \n",
        "    \n",
        "    # A function to perform a Depth-Limited search from given source 'src'\n",
        "    def DLS(self, src, target, maxDepth):\n",
        "        if src == target: \n",
        "            return True\n",
        "        \n",
        "        # If reached the maximum depth, stop recursing. \n",
        "        if maxDepth <= 0: \n",
        "            return False\n",
        "        \n",
        "        # Recur for all the vertices adjacent to this vertex\n",
        "        for i in self.graph[src]:\n",
        "            if self.DLS(i, target, maxDepth-1):\n",
        "                return True\n",
        "        \n",
        "        return False\n",
        "    \n",
        "    # IDDFS to search if target is reachable from v.\n",
        "    # It uses recursive DLS()\n",
        "    def IDDFS(self, src, target, maxDepth):\n",
        "        # Repeatedly depth-limit search till the maximum depth\n",
        "        for i in range(maxDepth):\n",
        "            if self.DLS(src, target, i):\n",
        "                return True\n",
        "        \n",
        "        return False\n",
        "    \n",
        "# Create a graph given in the above diagram\n",
        "g = Graph(7)\n",
        "g.addEdge(0, 1)\n",
        "g.addEdge(0, 2)\n",
        "g.addEdge(0, 4)\n",
        "g.addEdge(1, 3)\n",
        "g.addEdge(1, 5)\n",
        "g.addEdge(2, 6)\n",
        "\n",
        "target = 6\n",
        "maxDepth = 3\n",
        "src = 0\n",
        "\n",
        "if g.IDDFS(src, target, maxDepth):\n",
        "    print(\"Target is reachable from source within max depth\")\n",
        "else:\n",
        "    print(\"Target is NOT reachable from source within max depth\")\n"
      ],
      "metadata": {
        "colab": {
          "base_uri": "https://localhost:8080/"
        },
        "id": "3ILCmXa2Fb44",
        "outputId": "601213aa-a35e-4855-d9b3-f0abdaf87420"
      },
      "execution_count": 1,
      "outputs": [
        {
          "output_type": "stream",
          "name": "stdout",
          "text": [
            "Target is reachable from source within max depth\n"
          ]
        }
      ]
    },
    {
      "cell_type": "markdown",
      "source": [
        "# **5. Bidirectional Search**"
      ],
      "metadata": {
        "id": "iLfmsBQJIre0"
      }
    },
    {
      "cell_type": "code",
      "source": [
        "# Python3 program for Bidirectional BFS\n",
        "# Search to check path between two vertices\n",
        "\n",
        "# Class definition for node to be added to graph\n",
        "class AdjacentNode:\n",
        "  def __init__(self,vertex):\n",
        "    self.vertex = vertex\n",
        "    self.next = None\n",
        "    \n",
        "# BidirectionalSearch implementation\n",
        "class BidirectionalSearch:\n",
        "  def __init__(self,vertices):\n",
        "    # Initialize the class variables\n",
        "    self.vertices = vertices\n",
        "    self.graph = [None]* self.vertices\n",
        "    self.src_queue = list()\n",
        "    self.dest_queue = list()\n",
        "    self.src_visited = [False] * self.vertices\n",
        "    self.dest_visited = [False]* self.vertices\n",
        "    self.src_parent = [None] * self.vertices\n",
        "    self.dest_parent = [None] * self.vertices\n",
        "\n",
        "  # Function for adding undirected edge\n",
        "  def add_edge(self,src,dest):\n",
        "    # Add edges to the graph\n",
        "    # Add the destination node to the adjacency list of the source node\n",
        "    node = AdjacentNode(dest)\n",
        "    node.next = self.graph[src]\n",
        "    self.graph[src] = node\n",
        "\n",
        "    # Add the source node to the adjacency list of the destination node\n",
        "    node = AdjacentNode(src)\n",
        "    node.next = self.graph[dest]\n",
        "    self.graph[dest] = node\n",
        "\n",
        "  # Function for Breadth First Search\n",
        "  def bfs(self, direction = 'forward'):\n",
        "    # Perform BFS in the forward or backward direction depending on the input parameter\n",
        "    if direction == 'forward':\n",
        "      current = self.src_queue.pop(0)\n",
        "      connected_node = self.graph[current]\n",
        "\n",
        "      # Traverse all the nodes adjacent to the current node\n",
        "      while connected_node:\n",
        "        vertex = connected_node.vertex\n",
        "        if not self.src_visited[vertex]:\n",
        "          # Add the adjacent node to the queue if it has not been visited yet\n",
        "          self.src_queue.append(vertex)\n",
        "          self.src_visited[vertex] = True\n",
        "          # Set the parent of the adjacent node as the current node\n",
        "          self.src_parent[vertex] = current\n",
        "\n",
        "        connected_node = connected_node.next\n",
        "    else :\n",
        "      current = self.dest_queue.pop(0)\n",
        "      connected_node = self.graph[current]\n",
        "\n",
        "      while connected_node:\n",
        "        vertex = connected_node.vertex\n",
        "        if not self.dest_visited[vertex]:\n",
        "          self.dest_queue.append(vertex)\n",
        "          self.dest_visited[vertex] = True\n",
        "          self.dest_parent[vertex] = current\n",
        "\n",
        "        connected_node = connected_node.next\n",
        "\n",
        "  # Check for intersecting vertex\n",
        "  def is_intersecting (self):\n",
        "    # Returns intersecting node if present else -1\n",
        "    for i in range(self.vertices):\n",
        "      if (self.src_visited[i] and self.dest_visited[i]):\n",
        "        return i\n",
        "\n",
        "    return -1\n",
        "\n",
        "  # Print the path from source to target \n",
        "  def print_path(self, intersecting_node, src, dest):\n",
        "    # Print final path from source to destination\n",
        "    path = list()\n",
        "    path.append(intersecting_node)\n",
        "    i = intersecting_node\n",
        "\n",
        "    while i != src:\n",
        "      path.append(self.src_parent[i])\n",
        "      i = self.src_parent[i]\n",
        "\n",
        "    path = path [::-1]\n",
        "    i = intersecting_node\n",
        "\n",
        "    while i != dest:\n",
        "      path.append(self.dest_parent[i])\n",
        "      i = self.dest_parent[i]\n",
        "\n",
        "    print (\"*******path*******\")\n",
        "    path = list(map(str, path))\n",
        "\n",
        "    print(' '.join(path))\n",
        "\n",
        "  # Function for bidirectional searching \n",
        "  def bidirectional_search(self,src,dest):\n",
        "    # Add source to queue and mark visited as True and add its parent as -1 \n",
        "    self.src_queue.append(src)\n",
        "    self.src_visited[src] = True\n",
        "    self.src_parent[src] = -1\n",
        "    \n",
        "    # Add destination to queue and mark visited as True and add its parent as -1\n",
        "    self.dest_queue.append(dest)\n",
        "    self.dest_visited[dest] = True\n",
        "    self.dest_parent[dest] = -1\n",
        "    \n",
        "    while self.src_queue and self.dest_queue:\n",
        "      # Run BFS in forward direction\n",
        "      self.bfs(direction = 'forward')\n",
        "\n",
        "    # Run BFS in backward direction\n",
        "    self.bfs(direction = 'backward')\n",
        "\n",
        "    # Find the intersecting node, if any\n",
        "    intersecting_node = self.is_intersecting()\n",
        "\n",
        "    if intersecting_node != -1:\n",
        "      # If intersecting node is found, print the path\n",
        "      print(f\"Path exists between {src} and {dest}\")\n",
        "      print(f\"Intersection at : {intersecting_node}\")\n",
        "      self.print_path(intersecting_node,src,dest)\n",
        "      # Exit the program successfully\n",
        "      exit(0)\n",
        "    # If the intersecting node is not found, return -1\n",
        "    return -1\n",
        "\n",
        "if __name__== '__main__':\n",
        " \n",
        " n = 15\n",
        " src = 0\n",
        " dest = 6\n",
        "\n",
        " # Create a new graph object\n",
        " graph = BidirectionalSearch(n)\n",
        "\n",
        " # Add edges to the graph\n",
        " graph.add_edge(0,4)\n",
        " graph.add_edge(1,4)\n",
        " graph.add_edge(2,5)\n",
        " graph.add_edge(3,5)\n",
        " graph.add_edge(4,6)\n",
        " graph.add_edge(5,6)\n",
        " graph.add_edge(6,7)\n",
        " graph.add_edge(7,8)\n",
        " graph.add_edge(8,9)\n",
        " graph.add_edge(8,10)\n",
        " graph.add_edge(9,11)\n",
        " graph.add_edge(9,12)\n",
        " graph.add_edge(10,13)\n",
        " graph.add_edge(10,14)\n",
        "\n",
        " # Run bidirectional search on the graph\n",
        " out = graph.bidirectional_search(src,dest)\n",
        "\n",
        " if out == -1:\n",
        "    # If path does not exist, print a message\n",
        "    print(f\"Path does not exist between {src} and {dest}\")"
      ],
      "metadata": {
        "colab": {
          "base_uri": "https://localhost:8080/"
        },
        "id": "zM9WwcdHb3pr",
        "outputId": "0b939079-2e35-4f0a-d10e-a9fc14377cf5"
      },
      "execution_count": 5,
      "outputs": [
        {
          "output_type": "stream",
          "name": "stdout",
          "text": [
            "Path exists between 0 and 6\n",
            "Intersection at : 4\n",
            "*******path*******\n",
            "0 4 6\n",
            "Path does not exist between 0 and 6\n"
          ]
        }
      ]
    },
    {
      "cell_type": "markdown",
      "source": [
        "# **6. Task 01**"
      ],
      "metadata": {
        "id": "ksoA7-YCg0pF"
      }
    },
    {
      "cell_type": "code",
      "source": [
        "from collections import deque\n",
        "\n",
        "def bfs(start, goal, graph):\n",
        "    # Initialize a queue and a set of visited nodes\n",
        "    queue = deque([[start]])\n",
        "    visited = set()\n",
        "\n",
        "    # Perform the search for the shortest path\n",
        "    while queue:\n",
        "        path = queue.popleft()\n",
        "        node = path[-1]\n",
        "\n",
        "        # If the visited node is the goal node, return the path\n",
        "        if node == goal:\n",
        "            return path\n",
        "\n",
        "        # Add unvisited neighboring nodes to the queue\n",
        "        if node not in visited:\n",
        "            for neighbor in graph[node]:\n",
        "                new_path = list(path)\n",
        "                new_path.append(neighbor)\n",
        "                queue.append(new_path)\n",
        "\n",
        "            visited.add(node)\n",
        "\n",
        "    # If no path is found, return None\n",
        "    return None\n",
        "\n",
        "# Example usage of the function\n",
        "graph = {\n",
        "    0: [1, 3, 4],\n",
        "    1: [0, 2, 3],\n",
        "    2: [1, 3],\n",
        "    3: [0, 1, 2, 4],\n",
        "    4: [0, 3],\n",
        "}\n",
        "\n",
        "start = 0\n",
        "goal = 2\n",
        "\n",
        "result = bfs(start, goal, graph)\n",
        "\n",
        "# Check if a path is found or not\n",
        "if result is None:\n",
        "    print(\"No path found.\")\n",
        "else:\n",
        "    print(\"The shortest path from\", start, \"to\", goal, \"is:\", result)\n"
      ],
      "metadata": {
        "colab": {
          "base_uri": "https://localhost:8080/"
        },
        "id": "_WihUTY4ecXX",
        "outputId": "ecf17e77-1487-41c2-8184-881bbe828948"
      },
      "execution_count": 4,
      "outputs": [
        {
          "output_type": "stream",
          "name": "stdout",
          "text": [
            "The shortest path from 0 to 2 is: [0, 1, 2]\n"
          ]
        }
      ]
    }
  ]
}