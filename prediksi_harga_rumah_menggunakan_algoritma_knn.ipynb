{
  "cells": [
    {
      "cell_type": "markdown",
      "metadata": {
        "id": "view-in-github",
        "colab_type": "text"
      },
      "source": [
        "<a href=\"https://colab.research.google.com/github/2106118/Blind_Searching/blob/main/prediksi_harga_rumah_menggunakan_algoritma_knn.ipynb\" target=\"_parent\"><img src=\"https://colab.research.google.com/assets/colab-badge.svg\" alt=\"Open In Colab\"/></a>"
      ]
    },
    {
      "cell_type": "code",
      "execution_count": null,
      "id": "217ed793",
      "metadata": {
        "_cell_guid": "b1076dfc-b9ad-4769-8c92-a6c4dae69d19",
        "_uuid": "8f2839f25d086af736a60e9eeb907d3b93b6e0e5",
        "execution": {
          "iopub.execute_input": "2021-07-15T08:59:54.325638Z",
          "iopub.status.busy": "2021-07-15T08:59:54.324102Z",
          "iopub.status.idle": "2021-07-15T08:59:54.347806Z",
          "shell.execute_reply": "2021-07-15T08:59:54.348338Z",
          "shell.execute_reply.started": "2021-07-15T08:46:16.072904Z"
        },
        "papermill": {
          "duration": 0.047289,
          "end_time": "2021-07-15T08:59:54.348625",
          "exception": false,
          "start_time": "2021-07-15T08:59:54.301336",
          "status": "completed"
        },
        "tags": [],
        "colab": {
          "base_uri": "https://localhost:8080/"
        },
        "id": "217ed793",
        "outputId": "de62df6b-b638-4167-ff21-01cbc74d7b4f"
      },
      "outputs": [
        {
          "output_type": "stream",
          "name": "stdout",
          "text": [
            "/content/harga_rumah.csv\n",
            "/content/.config/.last_survey_prompt.yaml\n",
            "/content/.config/gce\n",
            "/content/.config/.last_update_check.json\n",
            "/content/.config/active_config\n",
            "/content/.config/default_configs.db\n",
            "/content/.config/config_sentinel\n",
            "/content/.config/.last_opt_in_prompt.yaml\n",
            "/content/.config/logs/2023.06.21/21.46.46.286754.log\n",
            "/content/.config/logs/2023.06.21/21.45.18.479807.log\n",
            "/content/.config/logs/2023.06.21/21.46.10.823665.log\n",
            "/content/.config/logs/2023.06.21/21.45.44.676013.log\n",
            "/content/.config/logs/2023.06.21/21.46.19.376436.log\n",
            "/content/.config/logs/2023.06.21/21.46.47.092469.log\n",
            "/content/.config/configurations/config_default\n",
            "/content/sample_data/README.md\n",
            "/content/sample_data/anscombe.json\n",
            "/content/sample_data/california_housing_train.csv\n",
            "/content/sample_data/california_housing_test.csv\n",
            "/content/sample_data/mnist_test.csv\n",
            "/content/sample_data/mnist_train_small.csv\n"
          ]
        }
      ],
      "source": [
        "# This Python 3 environment comes with many helpful analytics libraries installed\n",
        "# It is defined by the kaggle/python Docker image: https://github.com/kaggle/docker-python\n",
        "# For example, here's several helpful packages to load\n",
        "\n",
        "import numpy as np # linear algebra\n",
        "import pandas as pd # data processing, CSV file I/O (e.g. pd.read_csv)\n",
        "\n",
        "# Input data files are available in the read-only \"../input/\" directory\n",
        "# For example, running this (by clicking run or pressing Shift+Enter) will list all files under the input directory\n",
        "\n",
        "import os\n",
        "for dirname, _, filenames in os.walk('/content/'):\n",
        "    for filename in filenames:\n",
        "        print(os.path.join(dirname, filename))\n",
        "\n",
        "# You can write up to 20GB to the current directory (/kaggle/working/) that gets preserved as output when you create a version using \"Save & Run All\"\n",
        "# You can also write temporary files to /kaggle/temp/, but they won't be saved outside of the current session"
      ]
    },
    {
      "cell_type": "code",
      "execution_count": null,
      "id": "a3cd1419",
      "metadata": {
        "execution": {
          "iopub.execute_input": "2021-07-15T08:59:54.466194Z",
          "iopub.status.busy": "2021-07-15T08:59:54.465393Z",
          "iopub.status.idle": "2021-07-15T08:59:55.340322Z",
          "shell.execute_reply": "2021-07-15T08:59:55.339762Z",
          "shell.execute_reply.started": "2021-07-15T08:46:16.086608Z"
        },
        "papermill": {
          "duration": 0.906703,
          "end_time": "2021-07-15T08:59:55.340511",
          "exception": false,
          "start_time": "2021-07-15T08:59:54.433808",
          "status": "completed"
        },
        "tags": [],
        "id": "a3cd1419"
      },
      "outputs": [],
      "source": [
        "import matplotlib.pyplot as plt\n",
        "import sklearn.metrics as metrics\n",
        "#pandas dan numpy done"
      ]
    },
    {
      "cell_type": "code",
      "execution_count": null,
      "id": "b7c5bc37",
      "metadata": {
        "execution": {
          "iopub.execute_input": "2021-07-15T08:59:55.409637Z",
          "iopub.status.busy": "2021-07-15T08:59:55.408889Z",
          "iopub.status.idle": "2021-07-15T08:59:55.425284Z",
          "shell.execute_reply": "2021-07-15T08:59:55.425703Z",
          "shell.execute_reply.started": "2021-07-15T08:46:16.098469Z"
        },
        "papermill": {
          "duration": 0.035439,
          "end_time": "2021-07-15T08:59:55.425820",
          "exception": false,
          "start_time": "2021-07-15T08:59:55.390381",
          "status": "completed"
        },
        "tags": [],
        "id": "b7c5bc37",
        "colab": {
          "base_uri": "https://localhost:8080/"
        },
        "outputId": "47fd9d27-d817-4eb8-9672-a5025432a049"
      },
      "outputs": [
        {
          "output_type": "execute_result",
          "data": {
            "text/plain": [
              "(545, 4)"
            ]
          },
          "metadata": {},
          "execution_count": 37
        }
      ],
      "source": [
        "data_location = '/content/harga_rumah.csv'\n",
        "row_data = pd.read_csv(data_location)\n",
        "row_data.shape"
      ]
    },
    {
      "cell_type": "code",
      "execution_count": null,
      "id": "f74b9f10",
      "metadata": {
        "execution": {
          "iopub.execute_input": "2021-07-15T08:59:55.467167Z",
          "iopub.status.busy": "2021-07-15T08:59:55.466595Z",
          "iopub.status.idle": "2021-07-15T08:59:55.482408Z",
          "shell.execute_reply": "2021-07-15T08:59:55.482865Z",
          "shell.execute_reply.started": "2021-07-15T08:46:16.113493Z"
        },
        "papermill": {
          "duration": 0.041382,
          "end_time": "2021-07-15T08:59:55.482999",
          "exception": false,
          "start_time": "2021-07-15T08:59:55.441617",
          "status": "completed"
        },
        "tags": [],
        "id": "f74b9f10",
        "colab": {
          "base_uri": "https://localhost:8080/",
          "height": 206
        },
        "outputId": "fc205680-5bf1-40be-dc17-e23572b3642d"
      },
      "outputs": [
        {
          "output_type": "execute_result",
          "data": {
            "text/plain": [
              "      harga  luas  kasur  km\n",
              "0  13300000  7420      4   2\n",
              "1  12250000  8960      4   4\n",
              "2  12250000  9960      3   2\n",
              "3  12215000  7500      4   2\n",
              "4  11410000  7420      4   1"
            ],
            "text/html": [
              "\n",
              "  <div id=\"df-66b7f330-d0af-47ce-8493-9dca3cb18cd2\">\n",
              "    <div class=\"colab-df-container\">\n",
              "      <div>\n",
              "<style scoped>\n",
              "    .dataframe tbody tr th:only-of-type {\n",
              "        vertical-align: middle;\n",
              "    }\n",
              "\n",
              "    .dataframe tbody tr th {\n",
              "        vertical-align: top;\n",
              "    }\n",
              "\n",
              "    .dataframe thead th {\n",
              "        text-align: right;\n",
              "    }\n",
              "</style>\n",
              "<table border=\"1\" class=\"dataframe\">\n",
              "  <thead>\n",
              "    <tr style=\"text-align: right;\">\n",
              "      <th></th>\n",
              "      <th>harga</th>\n",
              "      <th>luas</th>\n",
              "      <th>kasur</th>\n",
              "      <th>km</th>\n",
              "    </tr>\n",
              "  </thead>\n",
              "  <tbody>\n",
              "    <tr>\n",
              "      <th>0</th>\n",
              "      <td>13300000</td>\n",
              "      <td>7420</td>\n",
              "      <td>4</td>\n",
              "      <td>2</td>\n",
              "    </tr>\n",
              "    <tr>\n",
              "      <th>1</th>\n",
              "      <td>12250000</td>\n",
              "      <td>8960</td>\n",
              "      <td>4</td>\n",
              "      <td>4</td>\n",
              "    </tr>\n",
              "    <tr>\n",
              "      <th>2</th>\n",
              "      <td>12250000</td>\n",
              "      <td>9960</td>\n",
              "      <td>3</td>\n",
              "      <td>2</td>\n",
              "    </tr>\n",
              "    <tr>\n",
              "      <th>3</th>\n",
              "      <td>12215000</td>\n",
              "      <td>7500</td>\n",
              "      <td>4</td>\n",
              "      <td>2</td>\n",
              "    </tr>\n",
              "    <tr>\n",
              "      <th>4</th>\n",
              "      <td>11410000</td>\n",
              "      <td>7420</td>\n",
              "      <td>4</td>\n",
              "      <td>1</td>\n",
              "    </tr>\n",
              "  </tbody>\n",
              "</table>\n",
              "</div>\n",
              "      <button class=\"colab-df-convert\" onclick=\"convertToInteractive('df-66b7f330-d0af-47ce-8493-9dca3cb18cd2')\"\n",
              "              title=\"Convert this dataframe to an interactive table.\"\n",
              "              style=\"display:none;\">\n",
              "        \n",
              "  <svg xmlns=\"http://www.w3.org/2000/svg\" height=\"24px\"viewBox=\"0 0 24 24\"\n",
              "       width=\"24px\">\n",
              "    <path d=\"M0 0h24v24H0V0z\" fill=\"none\"/>\n",
              "    <path d=\"M18.56 5.44l.94 2.06.94-2.06 2.06-.94-2.06-.94-.94-2.06-.94 2.06-2.06.94zm-11 1L8.5 8.5l.94-2.06 2.06-.94-2.06-.94L8.5 2.5l-.94 2.06-2.06.94zm10 10l.94 2.06.94-2.06 2.06-.94-2.06-.94-.94-2.06-.94 2.06-2.06.94z\"/><path d=\"M17.41 7.96l-1.37-1.37c-.4-.4-.92-.59-1.43-.59-.52 0-1.04.2-1.43.59L10.3 9.45l-7.72 7.72c-.78.78-.78 2.05 0 2.83L4 21.41c.39.39.9.59 1.41.59.51 0 1.02-.2 1.41-.59l7.78-7.78 2.81-2.81c.8-.78.8-2.07 0-2.86zM5.41 20L4 18.59l7.72-7.72 1.47 1.35L5.41 20z\"/>\n",
              "  </svg>\n",
              "      </button>\n",
              "      \n",
              "  <style>\n",
              "    .colab-df-container {\n",
              "      display:flex;\n",
              "      flex-wrap:wrap;\n",
              "      gap: 12px;\n",
              "    }\n",
              "\n",
              "    .colab-df-convert {\n",
              "      background-color: #E8F0FE;\n",
              "      border: none;\n",
              "      border-radius: 50%;\n",
              "      cursor: pointer;\n",
              "      display: none;\n",
              "      fill: #1967D2;\n",
              "      height: 32px;\n",
              "      padding: 0 0 0 0;\n",
              "      width: 32px;\n",
              "    }\n",
              "\n",
              "    .colab-df-convert:hover {\n",
              "      background-color: #E2EBFA;\n",
              "      box-shadow: 0px 1px 2px rgba(60, 64, 67, 0.3), 0px 1px 3px 1px rgba(60, 64, 67, 0.15);\n",
              "      fill: #174EA6;\n",
              "    }\n",
              "\n",
              "    [theme=dark] .colab-df-convert {\n",
              "      background-color: #3B4455;\n",
              "      fill: #D2E3FC;\n",
              "    }\n",
              "\n",
              "    [theme=dark] .colab-df-convert:hover {\n",
              "      background-color: #434B5C;\n",
              "      box-shadow: 0px 1px 3px 1px rgba(0, 0, 0, 0.15);\n",
              "      filter: drop-shadow(0px 1px 2px rgba(0, 0, 0, 0.3));\n",
              "      fill: #FFFFFF;\n",
              "    }\n",
              "  </style>\n",
              "\n",
              "      <script>\n",
              "        const buttonEl =\n",
              "          document.querySelector('#df-66b7f330-d0af-47ce-8493-9dca3cb18cd2 button.colab-df-convert');\n",
              "        buttonEl.style.display =\n",
              "          google.colab.kernel.accessAllowed ? 'block' : 'none';\n",
              "\n",
              "        async function convertToInteractive(key) {\n",
              "          const element = document.querySelector('#df-66b7f330-d0af-47ce-8493-9dca3cb18cd2');\n",
              "          const dataTable =\n",
              "            await google.colab.kernel.invokeFunction('convertToInteractive',\n",
              "                                                     [key], {});\n",
              "          if (!dataTable) return;\n",
              "\n",
              "          const docLinkHtml = 'Like what you see? Visit the ' +\n",
              "            '<a target=\"_blank\" href=https://colab.research.google.com/notebooks/data_table.ipynb>data table notebook</a>'\n",
              "            + ' to learn more about interactive tables.';\n",
              "          element.innerHTML = '';\n",
              "          dataTable['output_type'] = 'display_data';\n",
              "          await google.colab.output.renderOutput(dataTable, element);\n",
              "          const docLink = document.createElement('div');\n",
              "          docLink.innerHTML = docLinkHtml;\n",
              "          element.appendChild(docLink);\n",
              "        }\n",
              "      </script>\n",
              "    </div>\n",
              "  </div>\n",
              "  "
            ]
          },
          "metadata": {},
          "execution_count": 38
        }
      ],
      "source": [
        "row_data.head()"
      ]
    },
    {
      "cell_type": "code",
      "execution_count": null,
      "id": "63ec916d",
      "metadata": {
        "execution": {
          "iopub.execute_input": "2021-07-15T08:59:55.550990Z",
          "iopub.status.busy": "2021-07-15T08:59:55.550433Z",
          "iopub.status.idle": "2021-07-15T08:59:55.591288Z",
          "shell.execute_reply": "2021-07-15T08:59:55.590790Z",
          "shell.execute_reply.started": "2021-07-15T08:46:16.124442Z"
        },
        "papermill": {
          "duration": 0.061233,
          "end_time": "2021-07-15T08:59:55.591461",
          "exception": false,
          "start_time": "2021-07-15T08:59:55.530228",
          "status": "completed"
        },
        "tags": [],
        "id": "63ec916d",
        "colab": {
          "base_uri": "https://localhost:8080/",
          "height": 300
        },
        "outputId": "013f524a-31bb-42ca-f90d-e44650db7c7c"
      },
      "outputs": [
        {
          "output_type": "execute_result",
          "data": {
            "text/plain": [
              "              harga          luas       kasur          km\n",
              "count  5.450000e+02    545.000000  545.000000  545.000000\n",
              "mean   4.766729e+06   5150.541284    2.965138    1.286239\n",
              "std    1.870440e+06   2170.141023    0.738064    0.502470\n",
              "min    1.750000e+06   1650.000000    1.000000    1.000000\n",
              "25%    3.430000e+06   3600.000000    2.000000    1.000000\n",
              "50%    4.340000e+06   4600.000000    3.000000    1.000000\n",
              "75%    5.740000e+06   6360.000000    3.000000    2.000000\n",
              "max    1.330000e+07  16200.000000    6.000000    4.000000"
            ],
            "text/html": [
              "\n",
              "  <div id=\"df-cf1e8e38-4913-46c5-b6b9-6b82826fb24e\">\n",
              "    <div class=\"colab-df-container\">\n",
              "      <div>\n",
              "<style scoped>\n",
              "    .dataframe tbody tr th:only-of-type {\n",
              "        vertical-align: middle;\n",
              "    }\n",
              "\n",
              "    .dataframe tbody tr th {\n",
              "        vertical-align: top;\n",
              "    }\n",
              "\n",
              "    .dataframe thead th {\n",
              "        text-align: right;\n",
              "    }\n",
              "</style>\n",
              "<table border=\"1\" class=\"dataframe\">\n",
              "  <thead>\n",
              "    <tr style=\"text-align: right;\">\n",
              "      <th></th>\n",
              "      <th>harga</th>\n",
              "      <th>luas</th>\n",
              "      <th>kasur</th>\n",
              "      <th>km</th>\n",
              "    </tr>\n",
              "  </thead>\n",
              "  <tbody>\n",
              "    <tr>\n",
              "      <th>count</th>\n",
              "      <td>5.450000e+02</td>\n",
              "      <td>545.000000</td>\n",
              "      <td>545.000000</td>\n",
              "      <td>545.000000</td>\n",
              "    </tr>\n",
              "    <tr>\n",
              "      <th>mean</th>\n",
              "      <td>4.766729e+06</td>\n",
              "      <td>5150.541284</td>\n",
              "      <td>2.965138</td>\n",
              "      <td>1.286239</td>\n",
              "    </tr>\n",
              "    <tr>\n",
              "      <th>std</th>\n",
              "      <td>1.870440e+06</td>\n",
              "      <td>2170.141023</td>\n",
              "      <td>0.738064</td>\n",
              "      <td>0.502470</td>\n",
              "    </tr>\n",
              "    <tr>\n",
              "      <th>min</th>\n",
              "      <td>1.750000e+06</td>\n",
              "      <td>1650.000000</td>\n",
              "      <td>1.000000</td>\n",
              "      <td>1.000000</td>\n",
              "    </tr>\n",
              "    <tr>\n",
              "      <th>25%</th>\n",
              "      <td>3.430000e+06</td>\n",
              "      <td>3600.000000</td>\n",
              "      <td>2.000000</td>\n",
              "      <td>1.000000</td>\n",
              "    </tr>\n",
              "    <tr>\n",
              "      <th>50%</th>\n",
              "      <td>4.340000e+06</td>\n",
              "      <td>4600.000000</td>\n",
              "      <td>3.000000</td>\n",
              "      <td>1.000000</td>\n",
              "    </tr>\n",
              "    <tr>\n",
              "      <th>75%</th>\n",
              "      <td>5.740000e+06</td>\n",
              "      <td>6360.000000</td>\n",
              "      <td>3.000000</td>\n",
              "      <td>2.000000</td>\n",
              "    </tr>\n",
              "    <tr>\n",
              "      <th>max</th>\n",
              "      <td>1.330000e+07</td>\n",
              "      <td>16200.000000</td>\n",
              "      <td>6.000000</td>\n",
              "      <td>4.000000</td>\n",
              "    </tr>\n",
              "  </tbody>\n",
              "</table>\n",
              "</div>\n",
              "      <button class=\"colab-df-convert\" onclick=\"convertToInteractive('df-cf1e8e38-4913-46c5-b6b9-6b82826fb24e')\"\n",
              "              title=\"Convert this dataframe to an interactive table.\"\n",
              "              style=\"display:none;\">\n",
              "        \n",
              "  <svg xmlns=\"http://www.w3.org/2000/svg\" height=\"24px\"viewBox=\"0 0 24 24\"\n",
              "       width=\"24px\">\n",
              "    <path d=\"M0 0h24v24H0V0z\" fill=\"none\"/>\n",
              "    <path d=\"M18.56 5.44l.94 2.06.94-2.06 2.06-.94-2.06-.94-.94-2.06-.94 2.06-2.06.94zm-11 1L8.5 8.5l.94-2.06 2.06-.94-2.06-.94L8.5 2.5l-.94 2.06-2.06.94zm10 10l.94 2.06.94-2.06 2.06-.94-2.06-.94-.94-2.06-.94 2.06-2.06.94z\"/><path d=\"M17.41 7.96l-1.37-1.37c-.4-.4-.92-.59-1.43-.59-.52 0-1.04.2-1.43.59L10.3 9.45l-7.72 7.72c-.78.78-.78 2.05 0 2.83L4 21.41c.39.39.9.59 1.41.59.51 0 1.02-.2 1.41-.59l7.78-7.78 2.81-2.81c.8-.78.8-2.07 0-2.86zM5.41 20L4 18.59l7.72-7.72 1.47 1.35L5.41 20z\"/>\n",
              "  </svg>\n",
              "      </button>\n",
              "      \n",
              "  <style>\n",
              "    .colab-df-container {\n",
              "      display:flex;\n",
              "      flex-wrap:wrap;\n",
              "      gap: 12px;\n",
              "    }\n",
              "\n",
              "    .colab-df-convert {\n",
              "      background-color: #E8F0FE;\n",
              "      border: none;\n",
              "      border-radius: 50%;\n",
              "      cursor: pointer;\n",
              "      display: none;\n",
              "      fill: #1967D2;\n",
              "      height: 32px;\n",
              "      padding: 0 0 0 0;\n",
              "      width: 32px;\n",
              "    }\n",
              "\n",
              "    .colab-df-convert:hover {\n",
              "      background-color: #E2EBFA;\n",
              "      box-shadow: 0px 1px 2px rgba(60, 64, 67, 0.3), 0px 1px 3px 1px rgba(60, 64, 67, 0.15);\n",
              "      fill: #174EA6;\n",
              "    }\n",
              "\n",
              "    [theme=dark] .colab-df-convert {\n",
              "      background-color: #3B4455;\n",
              "      fill: #D2E3FC;\n",
              "    }\n",
              "\n",
              "    [theme=dark] .colab-df-convert:hover {\n",
              "      background-color: #434B5C;\n",
              "      box-shadow: 0px 1px 3px 1px rgba(0, 0, 0, 0.15);\n",
              "      filter: drop-shadow(0px 1px 2px rgba(0, 0, 0, 0.3));\n",
              "      fill: #FFFFFF;\n",
              "    }\n",
              "  </style>\n",
              "\n",
              "      <script>\n",
              "        const buttonEl =\n",
              "          document.querySelector('#df-cf1e8e38-4913-46c5-b6b9-6b82826fb24e button.colab-df-convert');\n",
              "        buttonEl.style.display =\n",
              "          google.colab.kernel.accessAllowed ? 'block' : 'none';\n",
              "\n",
              "        async function convertToInteractive(key) {\n",
              "          const element = document.querySelector('#df-cf1e8e38-4913-46c5-b6b9-6b82826fb24e');\n",
              "          const dataTable =\n",
              "            await google.colab.kernel.invokeFunction('convertToInteractive',\n",
              "                                                     [key], {});\n",
              "          if (!dataTable) return;\n",
              "\n",
              "          const docLinkHtml = 'Like what you see? Visit the ' +\n",
              "            '<a target=\"_blank\" href=https://colab.research.google.com/notebooks/data_table.ipynb>data table notebook</a>'\n",
              "            + ' to learn more about interactive tables.';\n",
              "          element.innerHTML = '';\n",
              "          dataTable['output_type'] = 'display_data';\n",
              "          await google.colab.output.renderOutput(dataTable, element);\n",
              "          const docLink = document.createElement('div');\n",
              "          docLink.innerHTML = docLinkHtml;\n",
              "          element.appendChild(docLink);\n",
              "        }\n",
              "      </script>\n",
              "    </div>\n",
              "  </div>\n",
              "  "
            ]
          },
          "metadata": {},
          "execution_count": 39
        }
      ],
      "source": [
        "df = row_data.dropna(axis=0)\n",
        "df.describe()"
      ]
    },
    {
      "cell_type": "code",
      "execution_count": null,
      "id": "0f132e31",
      "metadata": {
        "execution": {
          "iopub.execute_input": "2021-07-15T08:59:55.629276Z",
          "iopub.status.busy": "2021-07-15T08:59:55.628725Z",
          "iopub.status.idle": "2021-07-15T08:59:55.631993Z",
          "shell.execute_reply": "2021-07-15T08:59:55.632577Z",
          "shell.execute_reply.started": "2021-07-15T08:46:16.155374Z"
        },
        "papermill": {
          "duration": 0.025107,
          "end_time": "2021-07-15T08:59:55.632739",
          "exception": false,
          "start_time": "2021-07-15T08:59:55.607632",
          "status": "completed"
        },
        "tags": [],
        "id": "0f132e31",
        "colab": {
          "base_uri": "https://localhost:8080/"
        },
        "outputId": "d28d77d9-eef0-4256-b60e-1a7c03cc499a"
      },
      "outputs": [
        {
          "output_type": "stream",
          "name": "stdout",
          "text": [
            "harga    int64\n",
            "luas     int64\n",
            "kasur    int64\n",
            "km       int64\n",
            "dtype: object\n"
          ]
        }
      ],
      "source": [
        "print(df.dtypes)"
      ]
    },
    {
      "cell_type": "code",
      "execution_count": null,
      "id": "8ca32138",
      "metadata": {
        "execution": {
          "iopub.execute_input": "2021-07-15T08:59:55.713018Z",
          "iopub.status.busy": "2021-07-15T08:59:55.712209Z",
          "iopub.status.idle": "2021-07-15T08:59:55.716013Z",
          "shell.execute_reply": "2021-07-15T08:59:55.715613Z",
          "shell.execute_reply.started": "2021-07-15T08:46:16.163019Z"
        },
        "papermill": {
          "duration": 0.029392,
          "end_time": "2021-07-15T08:59:55.716117",
          "exception": false,
          "start_time": "2021-07-15T08:59:55.686725",
          "status": "completed"
        },
        "tags": [],
        "id": "8ca32138",
        "colab": {
          "base_uri": "https://localhost:8080/",
          "height": 206
        },
        "outputId": "7ffefbc2-3463-4084-eb08-56570f468943"
      },
      "outputs": [
        {
          "output_type": "execute_result",
          "data": {
            "text/plain": [
              "   luas  kasur  km\n",
              "0  7420      4   2\n",
              "1  8960      4   4\n",
              "2  9960      3   2\n",
              "3  7500      4   2\n",
              "4  7420      4   1"
            ],
            "text/html": [
              "\n",
              "  <div id=\"df-35b2f7c5-3773-4786-981e-de9af207aee7\">\n",
              "    <div class=\"colab-df-container\">\n",
              "      <div>\n",
              "<style scoped>\n",
              "    .dataframe tbody tr th:only-of-type {\n",
              "        vertical-align: middle;\n",
              "    }\n",
              "\n",
              "    .dataframe tbody tr th {\n",
              "        vertical-align: top;\n",
              "    }\n",
              "\n",
              "    .dataframe thead th {\n",
              "        text-align: right;\n",
              "    }\n",
              "</style>\n",
              "<table border=\"1\" class=\"dataframe\">\n",
              "  <thead>\n",
              "    <tr style=\"text-align: right;\">\n",
              "      <th></th>\n",
              "      <th>luas</th>\n",
              "      <th>kasur</th>\n",
              "      <th>km</th>\n",
              "    </tr>\n",
              "  </thead>\n",
              "  <tbody>\n",
              "    <tr>\n",
              "      <th>0</th>\n",
              "      <td>7420</td>\n",
              "      <td>4</td>\n",
              "      <td>2</td>\n",
              "    </tr>\n",
              "    <tr>\n",
              "      <th>1</th>\n",
              "      <td>8960</td>\n",
              "      <td>4</td>\n",
              "      <td>4</td>\n",
              "    </tr>\n",
              "    <tr>\n",
              "      <th>2</th>\n",
              "      <td>9960</td>\n",
              "      <td>3</td>\n",
              "      <td>2</td>\n",
              "    </tr>\n",
              "    <tr>\n",
              "      <th>3</th>\n",
              "      <td>7500</td>\n",
              "      <td>4</td>\n",
              "      <td>2</td>\n",
              "    </tr>\n",
              "    <tr>\n",
              "      <th>4</th>\n",
              "      <td>7420</td>\n",
              "      <td>4</td>\n",
              "      <td>1</td>\n",
              "    </tr>\n",
              "  </tbody>\n",
              "</table>\n",
              "</div>\n",
              "      <button class=\"colab-df-convert\" onclick=\"convertToInteractive('df-35b2f7c5-3773-4786-981e-de9af207aee7')\"\n",
              "              title=\"Convert this dataframe to an interactive table.\"\n",
              "              style=\"display:none;\">\n",
              "        \n",
              "  <svg xmlns=\"http://www.w3.org/2000/svg\" height=\"24px\"viewBox=\"0 0 24 24\"\n",
              "       width=\"24px\">\n",
              "    <path d=\"M0 0h24v24H0V0z\" fill=\"none\"/>\n",
              "    <path d=\"M18.56 5.44l.94 2.06.94-2.06 2.06-.94-2.06-.94-.94-2.06-.94 2.06-2.06.94zm-11 1L8.5 8.5l.94-2.06 2.06-.94-2.06-.94L8.5 2.5l-.94 2.06-2.06.94zm10 10l.94 2.06.94-2.06 2.06-.94-2.06-.94-.94-2.06-.94 2.06-2.06.94z\"/><path d=\"M17.41 7.96l-1.37-1.37c-.4-.4-.92-.59-1.43-.59-.52 0-1.04.2-1.43.59L10.3 9.45l-7.72 7.72c-.78.78-.78 2.05 0 2.83L4 21.41c.39.39.9.59 1.41.59.51 0 1.02-.2 1.41-.59l7.78-7.78 2.81-2.81c.8-.78.8-2.07 0-2.86zM5.41 20L4 18.59l7.72-7.72 1.47 1.35L5.41 20z\"/>\n",
              "  </svg>\n",
              "      </button>\n",
              "      \n",
              "  <style>\n",
              "    .colab-df-container {\n",
              "      display:flex;\n",
              "      flex-wrap:wrap;\n",
              "      gap: 12px;\n",
              "    }\n",
              "\n",
              "    .colab-df-convert {\n",
              "      background-color: #E8F0FE;\n",
              "      border: none;\n",
              "      border-radius: 50%;\n",
              "      cursor: pointer;\n",
              "      display: none;\n",
              "      fill: #1967D2;\n",
              "      height: 32px;\n",
              "      padding: 0 0 0 0;\n",
              "      width: 32px;\n",
              "    }\n",
              "\n",
              "    .colab-df-convert:hover {\n",
              "      background-color: #E2EBFA;\n",
              "      box-shadow: 0px 1px 2px rgba(60, 64, 67, 0.3), 0px 1px 3px 1px rgba(60, 64, 67, 0.15);\n",
              "      fill: #174EA6;\n",
              "    }\n",
              "\n",
              "    [theme=dark] .colab-df-convert {\n",
              "      background-color: #3B4455;\n",
              "      fill: #D2E3FC;\n",
              "    }\n",
              "\n",
              "    [theme=dark] .colab-df-convert:hover {\n",
              "      background-color: #434B5C;\n",
              "      box-shadow: 0px 1px 3px 1px rgba(0, 0, 0, 0.15);\n",
              "      filter: drop-shadow(0px 1px 2px rgba(0, 0, 0, 0.3));\n",
              "      fill: #FFFFFF;\n",
              "    }\n",
              "  </style>\n",
              "\n",
              "      <script>\n",
              "        const buttonEl =\n",
              "          document.querySelector('#df-35b2f7c5-3773-4786-981e-de9af207aee7 button.colab-df-convert');\n",
              "        buttonEl.style.display =\n",
              "          google.colab.kernel.accessAllowed ? 'block' : 'none';\n",
              "\n",
              "        async function convertToInteractive(key) {\n",
              "          const element = document.querySelector('#df-35b2f7c5-3773-4786-981e-de9af207aee7');\n",
              "          const dataTable =\n",
              "            await google.colab.kernel.invokeFunction('convertToInteractive',\n",
              "                                                     [key], {});\n",
              "          if (!dataTable) return;\n",
              "\n",
              "          const docLinkHtml = 'Like what you see? Visit the ' +\n",
              "            '<a target=\"_blank\" href=https://colab.research.google.com/notebooks/data_table.ipynb>data table notebook</a>'\n",
              "            + ' to learn more about interactive tables.';\n",
              "          element.innerHTML = '';\n",
              "          dataTable['output_type'] = 'display_data';\n",
              "          await google.colab.output.renderOutput(dataTable, element);\n",
              "          const docLink = document.createElement('div');\n",
              "          docLink.innerHTML = docLinkHtml;\n",
              "          element.appendChild(docLink);\n",
              "        }\n",
              "      </script>\n",
              "    </div>\n",
              "  </div>\n",
              "  "
            ]
          },
          "metadata": {},
          "execution_count": 41
        }
      ],
      "source": [
        "x = df.drop([\"harga\"],axis = 1)\n",
        "x.head()\n"
      ]
    },
    {
      "cell_type": "markdown",
      "id": "5bc33c6d",
      "metadata": {
        "_kg_hide-output": true,
        "papermill": {
          "duration": 0.016144,
          "end_time": "2021-07-15T08:59:55.749421",
          "exception": false,
          "start_time": "2021-07-15T08:59:55.733277",
          "status": "completed"
        },
        "tags": [],
        "id": "5bc33c6d"
      },
      "source": []
    },
    {
      "cell_type": "code",
      "execution_count": null,
      "id": "108ab4da",
      "metadata": {
        "execution": {
          "iopub.execute_input": "2021-07-15T08:59:55.791802Z",
          "iopub.status.busy": "2021-07-15T08:59:55.790943Z",
          "iopub.status.idle": "2021-07-15T08:59:55.794901Z",
          "shell.execute_reply": "2021-07-15T08:59:55.794435Z",
          "shell.execute_reply.started": "2021-07-15T08:46:16.178554Z"
        },
        "papermill": {
          "duration": 0.0283,
          "end_time": "2021-07-15T08:59:55.795020",
          "exception": false,
          "start_time": "2021-07-15T08:59:55.766720",
          "status": "completed"
        },
        "tags": [],
        "id": "108ab4da",
        "colab": {
          "base_uri": "https://localhost:8080/"
        },
        "outputId": "aafe66e9-79e4-489a-db02-c56e8900ac7e"
      },
      "outputs": [
        {
          "output_type": "execute_result",
          "data": {
            "text/plain": [
              "0    13300000\n",
              "1    12250000\n",
              "2    12250000\n",
              "3    12215000\n",
              "4    11410000\n",
              "Name: harga, dtype: int64"
            ]
          },
          "metadata": {},
          "execution_count": 42
        }
      ],
      "source": [
        "y = df[\"harga\"]\n",
        "y.head()"
      ]
    },
    {
      "cell_type": "code",
      "execution_count": null,
      "id": "2a5807b1",
      "metadata": {
        "execution": {
          "iopub.execute_input": "2021-07-15T08:59:55.868450Z",
          "iopub.status.busy": "2021-07-15T08:59:55.867829Z",
          "iopub.status.idle": "2021-07-15T08:59:55.884774Z",
          "shell.execute_reply": "2021-07-15T08:59:55.884236Z",
          "shell.execute_reply.started": "2021-07-15T08:46:16.190512Z"
        },
        "papermill": {
          "duration": 0.037137,
          "end_time": "2021-07-15T08:59:55.884897",
          "exception": false,
          "start_time": "2021-07-15T08:59:55.847760",
          "status": "completed"
        },
        "tags": [],
        "id": "2a5807b1"
      },
      "outputs": [],
      "source": [
        "from sklearn.model_selection import train_test_split\n",
        "train_x, test_x, train_y, test_y = train_test_split(x,y,test_size = 0.2, random_state = 70)"
      ]
    },
    {
      "cell_type": "code",
      "execution_count": null,
      "id": "a41bbc87",
      "metadata": {
        "execution": {
          "iopub.execute_input": "2021-07-15T08:59:55.961143Z",
          "iopub.status.busy": "2021-07-15T08:59:55.960516Z",
          "iopub.status.idle": "2021-07-15T08:59:56.090659Z",
          "shell.execute_reply": "2021-07-15T08:59:56.089882Z",
          "shell.execute_reply.started": "2021-07-15T08:46:16.327897Z"
        },
        "papermill": {
          "duration": 0.151502,
          "end_time": "2021-07-15T08:59:56.090872",
          "exception": false,
          "start_time": "2021-07-15T08:59:55.939370",
          "status": "completed"
        },
        "tags": [],
        "id": "a41bbc87",
        "colab": {
          "base_uri": "https://localhost:8080/"
        },
        "outputId": "8f6e25d2-3f39-4722-ee43-dce11d8781d3"
      },
      "outputs": [
        {
          "output_type": "stream",
          "name": "stdout",
          "text": [
            " MSE:  2939243422018.3486 \n",
            " Accuracy:  0.08317841890050015\n"
          ]
        }
      ],
      "source": [
        "from sklearn.neighbors import KNeighborsRegressor as KNN_Reg\n",
        "from sklearn.metrics import mean_squared_error as mse\n",
        "\n",
        "model  = KNN_Reg(n_neighbors = 1)\n",
        "\n",
        "#training model\n",
        "model.fit(train_x, train_y)\n",
        "acc1 = model.score(test_x, test_y)\n",
        "\n",
        "# test for prediction\n",
        "test_predict = model.predict(test_x)\n",
        "score = mse(test_predict, test_y)\n",
        "print(' MSE: ', score, '\\n', 'Accuracy: ', acc1)"
      ]
    },
    {
      "cell_type": "code",
      "execution_count": null,
      "id": "c9a28bb2",
      "metadata": {
        "execution": {
          "iopub.execute_input": "2021-07-15T08:59:56.172668Z",
          "iopub.status.busy": "2021-07-15T08:59:56.171956Z",
          "iopub.status.idle": "2021-07-15T08:59:56.174688Z",
          "shell.execute_reply": "2021-07-15T08:59:56.174180Z",
          "shell.execute_reply.started": "2021-07-15T08:46:16.346172Z"
        },
        "papermill": {
          "duration": 0.024656,
          "end_time": "2021-07-15T08:59:56.174795",
          "exception": false,
          "start_time": "2021-07-15T08:59:56.150139",
          "status": "completed"
        },
        "tags": [],
        "id": "c9a28bb2"
      },
      "outputs": [],
      "source": [
        "def Elbow(K):\n",
        "  #inisialisasi list kosong\n",
        "  test_mse =[]\n",
        "\n",
        "  #train model pada setiap nilai K\n",
        "  for i in K:\n",
        "    model = KNN_Reg(n_neighbors=i)\n",
        "    model.fit(train_x, train_y)\n",
        "    tmp = model.predict(test_x)\n",
        "    tmp = mse(tmp, test_y)\n",
        "    test_mse.append(tmp)\n",
        "\n",
        "  return test_mse"
      ]
    },
    {
      "cell_type": "code",
      "execution_count": null,
      "id": "cef0c3e1",
      "metadata": {
        "execution": {
          "iopub.execute_input": "2021-07-15T08:59:56.257655Z",
          "iopub.status.busy": "2021-07-15T08:59:56.255711Z",
          "iopub.status.idle": "2021-07-15T08:59:56.661937Z",
          "shell.execute_reply": "2021-07-15T08:59:56.663191Z",
          "shell.execute_reply.started": "2021-07-15T08:46:16.356768Z"
        },
        "papermill": {
          "duration": 0.431722,
          "end_time": "2021-07-15T08:59:56.663431",
          "exception": false,
          "start_time": "2021-07-15T08:59:56.231709",
          "status": "completed"
        },
        "tags": [],
        "id": "cef0c3e1",
        "colab": {
          "base_uri": "https://localhost:8080/",
          "height": 489
        },
        "outputId": "3ffbcc07-8840-4294-c396-e8cfa5b3d686"
      },
      "outputs": [
        {
          "output_type": "execute_result",
          "data": {
            "text/plain": [
              "Text(0.5, 1.0, 'Elbow Curve for Test')"
            ]
          },
          "metadata": {},
          "execution_count": 46
        },
        {
          "output_type": "display_data",
          "data": {
            "text/plain": [
              "<Figure size 640x480 with 1 Axes>"
            ],
            "image/png": "[encoded data removed]"
          },
          "metadata": {}
        }
      ],
      "source": [
        "K = range(1, 10)\n",
        "test = Elbow(K)\n",
        "\n",
        "#plotting\n",
        "plt.plot(K,test)\n",
        "plt.xlabel('K Neighbors')\n",
        "plt.ylabel('Mean Squared Error (MSE)')\n",
        "plt.title('Elbow Curve for Test')"
      ]
    },
    {
      "cell_type": "code",
      "execution_count": null,
      "id": "f29129cb",
      "metadata": {
        "execution": {
          "iopub.execute_input": "2021-07-15T08:59:56.803629Z",
          "iopub.status.busy": "2021-07-15T08:59:56.802462Z",
          "iopub.status.idle": "2021-07-15T08:59:56.812825Z",
          "shell.execute_reply": "2021-07-15T08:59:56.813747Z",
          "shell.execute_reply.started": "2021-07-15T08:46:16.559258Z"
        },
        "papermill": {
          "duration": 0.055684,
          "end_time": "2021-07-15T08:59:56.813890",
          "exception": false,
          "start_time": "2021-07-15T08:59:56.758206",
          "status": "completed"
        },
        "tags": [],
        "id": "f29129cb",
        "colab": {
          "base_uri": "https://localhost:8080/"
        },
        "outputId": "a1f90558-0b66-4809-bcb6-113420dff16d"
      },
      "outputs": [
        {
          "output_type": "stream",
          "name": "stdout",
          "text": [
            " Accuracy of new model (%): 16.159822698296843 \n",
            " Accuracy of old model (%): 8.317841890050016 \n",
            " Improvement (%): 7.841980808246829\n"
          ]
        }
      ],
      "source": [
        "new_model  = KNN_Reg(n_neighbors = 3)\n",
        "\n",
        "# Train model\n",
        "new_model.fit(train_x, train_y)\n",
        "acc2 = new_model.score(test_x, test_y)\n",
        "\n",
        "# Prediction test\n",
        "print(' Accuracy of new model (%):', acc2*100, '\\n',\n",
        "      'Accuracy of old model (%):', acc1*100, '\\n Improvement (%):', (acc2-acc1)*100)"
      ]
    },
    {
      "cell_type": "code",
      "execution_count": null,
      "id": "63124f1f",
      "metadata": {
        "execution": {
          "iopub.execute_input": "2021-07-15T08:59:56.925406Z",
          "iopub.status.busy": "2021-07-15T08:59:56.923810Z",
          "iopub.status.idle": "2021-07-15T08:59:56.928446Z",
          "shell.execute_reply": "2021-07-15T08:59:56.927655Z",
          "shell.execute_reply.started": "2021-07-15T08:57:42.508055Z"
        },
        "papermill": {
          "duration": 0.031494,
          "end_time": "2021-07-15T08:59:56.928633",
          "exception": false,
          "start_time": "2021-07-15T08:59:56.897139",
          "status": "completed"
        },
        "tags": [],
        "id": "63124f1f",
        "colab": {
          "base_uri": "https://localhost:8080/"
        },
        "outputId": "ecf31086-535e-46e7-88b1-a94907e23b24"
      },
      "outputs": [
        {
          "output_type": "stream",
          "name": "stdout",
          "text": [
            " Hasil Prediksi harga rumah dengan old model: Rp [6020000.] Juta\n",
            " Hasil Prediksi harga rumah dengan new model: Rp [5553333.33333333] Juta\n"
          ]
        },
        {
          "output_type": "stream",
          "name": "stderr",
          "text": [
            "/usr/local/lib/python3.10/dist-packages/sklearn/base.py:439: UserWarning: X does not have valid feature names, but KNeighborsRegressor was fitted with feature names\n",
            "  warnings.warn(\n",
            "/usr/local/lib/python3.10/dist-packages/sklearn/base.py:439: UserWarning: X does not have valid feature names, but KNeighborsRegressor was fitted with feature names\n",
            "  warnings.warn(\n"
          ]
        }
      ],
      "source": [
        "data_harga_rumah = np.array([[8000,4,2]])\n",
        "pred_old = model.predict(data_harga_rumah)\n",
        "pred_new = new_model.predict(data_harga_rumah)\n",
        "\n",
        "print(' Hasil Prediksi harga rumah dengan old model: Rp', pred_old, 'Juta\\n',\n",
        "      'Hasil Prediksi harga rumah dengan new model: Rp', pred_new, 'Juta')"
      ]
    }
  ],
  "metadata": {
    "kernelspec": {
      "display_name": "Python 3",
      "language": "python",
      "name": "python3"
    },
    "language_info": {
      "codemirror_mode": {
        "name": "ipython",
        "version": 3
      },
      "file_extension": ".py",
      "mimetype": "text/x-python",
      "name": "python",
      "nbconvert_exporter": "python",
      "pygments_lexer": "ipython3",
      "version": "3.7.10"
    },
    "papermill": {
      "default_parameters": {},
      "duration": 10.562156,
      "end_time": "2021-07-15T08:59:57.456745",
      "environment_variables": {},
      "exception": null,
      "input_path": "__notebook__.ipynb",
      "output_path": "__notebook__.ipynb",
      "parameters": {},
      "start_time": "2021-07-15T08:59:46.894589",
      "version": "2.3.3"
    },
    "colab": {
      "provenance": [],
      "include_colab_link": true
    }
  },
  "nbformat": 4,
  "nbformat_minor": 5
}